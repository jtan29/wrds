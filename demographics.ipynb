{
 "cells": [
  {
   "cell_type": "markdown",
   "id": "4305f339-958f-4d59-812f-86c63a2c3a0f",
   "metadata": {},
   "source": [
    "Importing relevant libraries"
   ]
  },
  {
   "cell_type": "code",
   "execution_count": 1,
   "id": "d6b24d59-7686-4926-a219-3c123de5cbea",
   "metadata": {
    "tags": []
   },
   "outputs": [
    {
     "name": "stderr",
     "output_type": "stream",
     "text": [
      "Warning message in system(\"timedatectl\", intern = TRUE):\n",
      "“running command 'timedatectl' had status 1”\n",
      "── \u001b[1mAttaching core tidyverse packages\u001b[22m ──────────────────────── tidyverse 2.0.0 ──\n",
      "\u001b[32m✔\u001b[39m \u001b[34mdplyr    \u001b[39m 1.1.0     \u001b[32m✔\u001b[39m \u001b[34mreadr    \u001b[39m 2.1.4\n",
      "\u001b[32m✔\u001b[39m \u001b[34mforcats  \u001b[39m 1.0.0     \u001b[32m✔\u001b[39m \u001b[34mstringr  \u001b[39m 1.5.0\n",
      "\u001b[32m✔\u001b[39m \u001b[34mggplot2  \u001b[39m 3.4.1     \u001b[32m✔\u001b[39m \u001b[34mtibble   \u001b[39m 3.2.1\n",
      "\u001b[32m✔\u001b[39m \u001b[34mlubridate\u001b[39m 1.9.2     \u001b[32m✔\u001b[39m \u001b[34mtidyr    \u001b[39m 1.3.0\n",
      "\u001b[32m✔\u001b[39m \u001b[34mpurrr    \u001b[39m 1.0.1     \n",
      "── \u001b[1mConflicts\u001b[22m ────────────────────────────────────────── tidyverse_conflicts() ──\n",
      "\u001b[31m✖\u001b[39m \u001b[34mdplyr\u001b[39m::\u001b[32mfilter()\u001b[39m masks \u001b[34mstats\u001b[39m::filter()\n",
      "\u001b[31m✖\u001b[39m \u001b[34mdplyr\u001b[39m::\u001b[32mlag()\u001b[39m    masks \u001b[34mstats\u001b[39m::lag()\n",
      "\u001b[36mℹ\u001b[39m Use the conflicted package (\u001b[3m\u001b[34m<http://conflicted.r-lib.org/>\u001b[39m\u001b[23m) to force all conflicts to become errors\n"
     ]
    }
   ],
   "source": [
    "library(tidyverse)\n",
    "library(readxl)\n",
    "library(repr)\n",
    "options(repr.matrix.max.rows = 10)"
   ]
  },
  {
   "cell_type": "markdown",
   "id": "2aad5eda-490b-4b0c-a731-a4adf374843f",
   "metadata": {},
   "source": [
    "Loading data"
   ]
  },
  {
   "cell_type": "code",
   "execution_count": 2,
   "id": "ae8bbcdd-f664-4dac-aa16-e2df56aee30c",
   "metadata": {
    "tags": []
   },
   "outputs": [
    {
     "data": {
      "text/html": [
       "<table class=\"dataframe\">\n",
       "<caption>A tibble: 17409 × 3</caption>\n",
       "<thead>\n",
       "\t<tr><th scope=col>GENDER</th><th scope=col>AGE_GRP</th><th scope=col>UI_060A</th></tr>\n",
       "\t<tr><th scope=col>&lt;dbl&gt;</th><th scope=col>&lt;dbl&gt;</th><th scope=col>&lt;dbl&gt;</th></tr>\n",
       "</thead>\n",
       "<tbody>\n",
       "\t<tr><td>1</td><td>6</td><td>4</td></tr>\n",
       "\t<tr><td>2</td><td>6</td><td>2</td></tr>\n",
       "\t<tr><td>2</td><td>2</td><td>4</td></tr>\n",
       "\t<tr><td>2</td><td>3</td><td>6</td></tr>\n",
       "\t<tr><td>2</td><td>6</td><td>2</td></tr>\n",
       "\t<tr><td>⋮</td><td>⋮</td><td>⋮</td></tr>\n",
       "\t<tr><td>2</td><td>2</td><td> 3</td></tr>\n",
       "\t<tr><td>1</td><td>2</td><td> 5</td></tr>\n",
       "\t<tr><td>1</td><td>4</td><td> 5</td></tr>\n",
       "\t<tr><td>1</td><td>4</td><td> 4</td></tr>\n",
       "\t<tr><td>2</td><td>2</td><td>96</td></tr>\n",
       "</tbody>\n",
       "</table>\n"
      ],
      "text/latex": [
       "A tibble: 17409 × 3\n",
       "\\begin{tabular}{lll}\n",
       " GENDER & AGE\\_GRP & UI\\_060A\\\\\n",
       " <dbl> & <dbl> & <dbl>\\\\\n",
       "\\hline\n",
       "\t 1 & 6 & 4\\\\\n",
       "\t 2 & 6 & 2\\\\\n",
       "\t 2 & 2 & 4\\\\\n",
       "\t 2 & 3 & 6\\\\\n",
       "\t 2 & 6 & 2\\\\\n",
       "\t ⋮ & ⋮ & ⋮\\\\\n",
       "\t 2 & 2 &  3\\\\\n",
       "\t 1 & 2 &  5\\\\\n",
       "\t 1 & 4 &  5\\\\\n",
       "\t 1 & 4 &  4\\\\\n",
       "\t 2 & 2 & 96\\\\\n",
       "\\end{tabular}\n"
      ],
      "text/markdown": [
       "\n",
       "A tibble: 17409 × 3\n",
       "\n",
       "| GENDER &lt;dbl&gt; | AGE_GRP &lt;dbl&gt; | UI_060A &lt;dbl&gt; |\n",
       "|---|---|---|\n",
       "| 1 | 6 | 4 |\n",
       "| 2 | 6 | 2 |\n",
       "| 2 | 2 | 4 |\n",
       "| 2 | 3 | 6 |\n",
       "| 2 | 6 | 2 |\n",
       "| ⋮ | ⋮ | ⋮ |\n",
       "| 2 | 2 |  3 |\n",
       "| 1 | 2 |  5 |\n",
       "| 1 | 4 |  5 |\n",
       "| 1 | 4 |  4 |\n",
       "| 2 | 2 | 96 |\n",
       "\n"
      ],
      "text/plain": [
       "      GENDER AGE_GRP UI_060A\n",
       "1     1      6       4      \n",
       "2     2      6       2      \n",
       "3     2      2       4      \n",
       "4     2      3       6      \n",
       "5     2      6       2      \n",
       "⋮     ⋮      ⋮       ⋮      \n",
       "17405 2      2        3     \n",
       "17406 1      2        5     \n",
       "17407 1      4        5     \n",
       "17408 1      4        4     \n",
       "17409 2      2       96     "
      ]
     },
     "metadata": {},
     "output_type": "display_data"
    },
    {
     "data": {
      "text/html": [
       "<table class=\"dataframe\">\n",
       "<caption>A tibble: 13810 × 3</caption>\n",
       "<thead>\n",
       "\t<tr><th scope=col>GENDER</th><th scope=col>AGE_GRP</th><th scope=col>UI_210A</th></tr>\n",
       "\t<tr><th scope=col>&lt;dbl&gt;</th><th scope=col>&lt;chr&gt;</th><th scope=col>&lt;dbl&gt;</th></tr>\n",
       "</thead>\n",
       "<tbody>\n",
       "\t<tr><td>2</td><td>03</td><td>4</td></tr>\n",
       "\t<tr><td>1</td><td>05</td><td>6</td></tr>\n",
       "\t<tr><td>1</td><td>05</td><td>2</td></tr>\n",
       "\t<tr><td>2</td><td>04</td><td>1</td></tr>\n",
       "\t<tr><td>1</td><td>01</td><td>3</td></tr>\n",
       "\t<tr><td>⋮</td><td>⋮</td><td>⋮</td></tr>\n",
       "\t<tr><td>1</td><td>06</td><td>1</td></tr>\n",
       "\t<tr><td>1</td><td>03</td><td>4</td></tr>\n",
       "\t<tr><td>1</td><td>04</td><td>1</td></tr>\n",
       "\t<tr><td>2</td><td>05</td><td>3</td></tr>\n",
       "\t<tr><td>2</td><td>06</td><td>2</td></tr>\n",
       "</tbody>\n",
       "</table>\n"
      ],
      "text/latex": [
       "A tibble: 13810 × 3\n",
       "\\begin{tabular}{lll}\n",
       " GENDER & AGE\\_GRP & UI\\_210A\\\\\n",
       " <dbl> & <chr> & <dbl>\\\\\n",
       "\\hline\n",
       "\t 2 & 03 & 4\\\\\n",
       "\t 1 & 05 & 6\\\\\n",
       "\t 1 & 05 & 2\\\\\n",
       "\t 2 & 04 & 1\\\\\n",
       "\t 1 & 01 & 3\\\\\n",
       "\t ⋮ & ⋮ & ⋮\\\\\n",
       "\t 1 & 06 & 1\\\\\n",
       "\t 1 & 03 & 4\\\\\n",
       "\t 1 & 04 & 1\\\\\n",
       "\t 2 & 05 & 3\\\\\n",
       "\t 2 & 06 & 2\\\\\n",
       "\\end{tabular}\n"
      ],
      "text/markdown": [
       "\n",
       "A tibble: 13810 × 3\n",
       "\n",
       "| GENDER &lt;dbl&gt; | AGE_GRP &lt;chr&gt; | UI_210A &lt;dbl&gt; |\n",
       "|---|---|---|\n",
       "| 2 | 03 | 4 |\n",
       "| 1 | 05 | 6 |\n",
       "| 1 | 05 | 2 |\n",
       "| 2 | 04 | 1 |\n",
       "| 1 | 01 | 3 |\n",
       "| ⋮ | ⋮ | ⋮ |\n",
       "| 1 | 06 | 1 |\n",
       "| 1 | 03 | 4 |\n",
       "| 1 | 04 | 1 |\n",
       "| 2 | 05 | 3 |\n",
       "| 2 | 06 | 2 |\n",
       "\n"
      ],
      "text/plain": [
       "      GENDER AGE_GRP UI_210A\n",
       "1     2      03      4      \n",
       "2     1      05      6      \n",
       "3     1      05      2      \n",
       "4     2      04      1      \n",
       "5     1      01      3      \n",
       "⋮     ⋮      ⋮       ⋮      \n",
       "13806 1      06      1      \n",
       "13807 1      03      4      \n",
       "13808 1      04      1      \n",
       "13809 2      05      3      \n",
       "13810 2      06      2      "
      ]
     },
     "metadata": {},
     "output_type": "display_data"
    }
   ],
   "source": [
    "cius_2020_dem <- read_excel(\"data/CIUS_2020_DEM.xlsx\") \n",
    "cius_2018_dem <- read_excel(\"data/CIUS_2018_DEM.xlsx\")\n",
    "cius_2020_dem\n",
    "cius_2018_dem"
   ]
  },
  {
   "cell_type": "markdown",
   "id": "6f44aa00-bd5a-486c-8726-790f1dd4ebb7",
   "metadata": {},
   "source": [
    "Cleaning and filtering data"
   ]
  },
  {
   "cell_type": "code",
   "execution_count": null,
   "id": "79184b0c-4c12-4513-a542-7e596c473627",
   "metadata": {
    "tags": []
   },
   "outputs": [],
   "source": [
    "cius_2020_dem_clean <- cius_2020_dem |> filter(UI_060A <= 6) |> select(GENDER, AGE_GRP)\n",
    "cius_2018_dem_clean <- cius_2018_dem |> mutate(AGE_GRP = as.numeric(AGE_GRP)) |> filter(UI_210A <= 5) |> select(GENDER, AGE_GRP)\n",
    "cius_2020_dem_clean\n",
    "cius_2018_dem_clean"
   ]
  },
  {
   "cell_type": "markdown",
   "id": "fb70eef5-91c9-41f6-b528-2860b4b7c4dd",
   "metadata": {},
   "source": [
    "Determining number of respondents by gender in 2018"
   ]
  },
  {
   "cell_type": "code",
   "execution_count": null,
   "id": "b738c653-e69b-4e78-9ec8-ba5705e16539",
   "metadata": {
    "tags": []
   },
   "outputs": [],
   "source": [
    "gender_2018 <- cius_2018_dem_clean |> group_by(GENDER) |>\n",
    "    summarize(count = n()) |>\n",
    "bind_cols(\"GENDER_LABEL\" = c(\"male\", \"female\"))\n",
    "gender_2018\n"
   ]
  },
  {
   "cell_type": "markdown",
   "id": "5fb86427-87f5-4c7f-a338-1db1418c844d",
   "metadata": {},
   "source": [
    "Determining number of respondents by gender in 2020"
   ]
  },
  {
   "cell_type": "code",
   "execution_count": null,
   "id": "9e55fbb1-65a1-4624-b579-e2a3a5832851",
   "metadata": {
    "tags": []
   },
   "outputs": [],
   "source": [
    "gender_2020 <- cius_2020_dem_clean |> group_by(GENDER) |>\n",
    "    summarize(count = n()) |>\n",
    "bind_cols(\"GENDER_LABEL\" = c(\"male\", \"female\"))\n",
    "gender_2020"
   ]
  },
  {
   "cell_type": "code",
   "execution_count": null,
   "id": "8c6ea979-36e9-448a-84a2-40353c2ab6fb",
   "metadata": {},
   "outputs": [],
   "source": [
    "Plotting gender demographics data"
   ]
  },
  {
   "cell_type": "code",
   "execution_count": null,
   "id": "fbcbdf06-ace3-4928-af7a-e5d6f5aee8be",
   "metadata": {
    "tags": []
   },
   "outputs": [],
   "source": [
    "gender_2018_plot <- ggplot(gender_2018, aes(x = GENDER_LABEL, y = count, fill = GENDER_LABEL)) + \n",
    "    geom_bar(stat = \"identity\") + \n",
    "   xlab(\"Gender\") +\n",
    "   ylab(\"Number of respondents\") +\n",
    "   labs(fill = \"Gender\") +\n",
    "  theme(text = element_text(size = 16)) +\n",
    "ggtitle(\"Gender distribution of respondents in 2018\")\n",
    "gender_2018_plot\n",
    "ggsave(\"images/gender_2018_plot.png\", gender_2018_plot)"
   ]
  },
  {
   "cell_type": "code",
   "execution_count": null,
   "id": "6d6cbb3f-2032-42dc-8c2e-d72683d870f0",
   "metadata": {
    "tags": []
   },
   "outputs": [],
   "source": [
    "gender_2020_plot <- ggplot(gender_2020, aes(x = GENDER_LABEL, y = count, fill = GENDER_LABEL)) +\n",
    "    geom_bar(stat = \"identity\") + \n",
    "   xlab(\"Gender\") +\n",
    "   ylab(\"Number of respondents\") +\n",
    "   labs(fill = \"Gender\") +\n",
    "  theme(text = element_text(size = 16)) +\n",
    "ggtitle(\"Gender distribution of respondents in 2020\")\n",
    "gender_2020_plot\n",
    "ggsave(\"images/gender_2020_plot.png\", gender_2020_plot)"
   ]
  },
  {
   "cell_type": "markdown",
   "id": "49aebc77-3f49-4b64-9eeb-7fb4b5aec16f",
   "metadata": {},
   "source": [
    "Determining number of respondents by age group in 2018"
   ]
  },
  {
   "cell_type": "code",
   "execution_count": null,
   "id": "0f3eb8ef-d51d-4ec0-97f1-b25290c55f9f",
   "metadata": {
    "tags": []
   },
   "outputs": [],
   "source": [
    "age_2018 <- cius_2018_dem_clean |> group_by(AGE_GRP) |>\n",
    "    summarize(count = n()) |>\n",
    "bind_cols(\"AGE_LABEL\" = c(\"15-24\", \"25-34\", \"35-44\", \"45-54\", \"55-64\", \"65+\"))\n",
    "age_2018"
   ]
  },
  {
   "cell_type": "markdown",
   "id": "2fa991ea-b507-4700-b81f-bdb1b31c9df1",
   "metadata": {},
   "source": [
    "Determining number of respondents by age group in 2020"
   ]
  },
  {
   "cell_type": "code",
   "execution_count": null,
   "id": "39edeb3a-07b4-4e9b-b8f1-9888ba49875e",
   "metadata": {
    "tags": []
   },
   "outputs": [],
   "source": [
    "age_2020 <- cius_2020_dem_clean |> group_by(AGE_GRP) |>\n",
    "    summarize(count = n()) |>\n",
    "bind_cols(\"AGE_LABEL\" = c(\"15-24\", \"25-34\", \"35-44\", \"45-54\", \"55-64\", \"65+\"))\n",
    "age_2020"
   ]
  },
  {
   "cell_type": "markdown",
   "id": "fca91be9-5546-4cda-ba6f-df95bae8de27",
   "metadata": {},
   "source": [
    "Plotting age group demographics data"
   ]
  },
  {
   "cell_type": "code",
   "execution_count": null,
   "id": "eba8b24a-769a-433e-b11d-9f2a6c263264",
   "metadata": {
    "tags": []
   },
   "outputs": [],
   "source": [
    "age_2018_plot <- ggplot(age_2018, aes(x = AGE_LABEL, y = count, fill = AGE_LABEL)) + \n",
    "    geom_bar(stat = \"identity\") + \n",
    "   xlab(\"Age group\") +\n",
    "   ylab(\"Number of respondents\") +\n",
    "   labs(fill = \"Age group\") +\n",
    "  theme(text = element_text(size = 16)) +\n",
    "ggtitle(\"Age distribution of respondents in 2018\")\n",
    "age_2018_plot\n",
    "ggsave(\"images/age_2018_plot.png\", age_2018_plot)"
   ]
  },
  {
   "cell_type": "code",
   "execution_count": null,
   "id": "e5dbc9de-701b-4730-9adc-87fa04f5837b",
   "metadata": {
    "tags": []
   },
   "outputs": [],
   "source": [
    "age_2020_plot <- ggplot(age_2020, aes(x = AGE_LABEL, y = count, fill = AGE_LABEL)) + \n",
    "    geom_bar(stat = \"identity\") + \n",
    "   xlab(\"Age group\") +\n",
    "   ylab(\"Number of respondents\") +\n",
    "   labs(fill = \"Age group\") +\n",
    "  theme(text = element_text(size = 16)) +\n",
    "ggtitle(\"Age distribution of respondents in 2020\")\n",
    "age_2020_plot\n",
    "ggsave(\"images/age_2020_plot.png\", age_2020_plot)"
   ]
  }
 ],
 "metadata": {
  "kernelspec": {
   "display_name": "R",
   "language": "R",
   "name": "ir"
  },
  "language_info": {
   "codemirror_mode": "r",
   "file_extension": ".r",
   "mimetype": "text/x-r-source",
   "name": "R",
   "pygments_lexer": "r",
   "version": "4.2.3"
  }
 },
 "nbformat": 4,
 "nbformat_minor": 5
}
