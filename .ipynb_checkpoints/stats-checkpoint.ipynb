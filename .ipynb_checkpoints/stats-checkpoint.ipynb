{
 "cells": [
  {
   "cell_type": "markdown",
   "id": "3de3ac7b-4b35-4bbe-9dec-98563897fe70",
   "metadata": {},
   "source": [
    "Loading relevant libraries"
   ]
  },
  {
   "cell_type": "code",
   "execution_count": 1,
   "id": "902c9dac-a51b-45b8-8fda-c18b0a43583f",
   "metadata": {
    "tags": []
   },
   "outputs": [
    {
     "name": "stderr",
     "output_type": "stream",
     "text": [
      "Warning message in system(\"timedatectl\", intern = TRUE):\n",
      "“running command 'timedatectl' had status 1”\n",
      "── \u001b[1mAttaching core tidyverse packages\u001b[22m ──────────────────────── tidyverse 2.0.0 ──\n",
      "\u001b[32m✔\u001b[39m \u001b[34mdplyr    \u001b[39m 1.1.0     \u001b[32m✔\u001b[39m \u001b[34mreadr    \u001b[39m 2.1.4\n",
      "\u001b[32m✔\u001b[39m \u001b[34mforcats  \u001b[39m 1.0.0     \u001b[32m✔\u001b[39m \u001b[34mstringr  \u001b[39m 1.5.0\n",
      "\u001b[32m✔\u001b[39m \u001b[34mggplot2  \u001b[39m 3.4.1     \u001b[32m✔\u001b[39m \u001b[34mtibble   \u001b[39m 3.2.1\n",
      "\u001b[32m✔\u001b[39m \u001b[34mlubridate\u001b[39m 1.9.2     \u001b[32m✔\u001b[39m \u001b[34mtidyr    \u001b[39m 1.3.0\n",
      "\u001b[32m✔\u001b[39m \u001b[34mpurrr    \u001b[39m 1.0.1     \n",
      "── \u001b[1mConflicts\u001b[22m ────────────────────────────────────────── tidyverse_conflicts() ──\n",
      "\u001b[31m✖\u001b[39m \u001b[34mdplyr\u001b[39m::\u001b[32mfilter()\u001b[39m masks \u001b[34mstats\u001b[39m::filter()\n",
      "\u001b[31m✖\u001b[39m \u001b[34mdplyr\u001b[39m::\u001b[32mlag()\u001b[39m    masks \u001b[34mstats\u001b[39m::lag()\n",
      "\u001b[36mℹ\u001b[39m Use the conflicted package (\u001b[3m\u001b[34m<http://conflicted.r-lib.org/>\u001b[39m\u001b[23m) to force all conflicts to become errors\n"
     ]
    }
   ],
   "source": [
    "library(tidyverse)\n",
    "library(readxl)\n",
    "library(repr)\n",
    "options(repr.matrix.max.rows = 6)"
   ]
  },
  {
   "cell_type": "markdown",
   "id": "c84eef45-3f41-465d-b9fb-03f3679e5fd5",
   "metadata": {},
   "source": [
    "Reading and separating the data by year"
   ]
  },
  {
   "cell_type": "code",
   "execution_count": 2,
   "id": "34d932db-9c47-4943-b6e8-bbe907f82fef",
   "metadata": {
    "tags": []
   },
   "outputs": [
    {
     "data": {
      "text/html": [
       "<table class=\"dataframe\">\n",
       "<caption>A tibble: 17409 × 1</caption>\n",
       "<thead>\n",
       "\t<tr><th scope=col>YR_2020</th></tr>\n",
       "\t<tr><th scope=col>&lt;dbl&gt;</th></tr>\n",
       "</thead>\n",
       "<tbody>\n",
       "\t<tr><td>4</td></tr>\n",
       "\t<tr><td>2</td></tr>\n",
       "\t<tr><td>4</td></tr>\n",
       "\t<tr><td>⋮</td></tr>\n",
       "\t<tr><td> 5</td></tr>\n",
       "\t<tr><td> 4</td></tr>\n",
       "\t<tr><td>96</td></tr>\n",
       "</tbody>\n",
       "</table>\n"
      ],
      "text/latex": [
       "A tibble: 17409 × 1\n",
       "\\begin{tabular}{l}\n",
       " YR\\_2020\\\\\n",
       " <dbl>\\\\\n",
       "\\hline\n",
       "\t 4\\\\\n",
       "\t 2\\\\\n",
       "\t 4\\\\\n",
       "\t ⋮\\\\\n",
       "\t  5\\\\\n",
       "\t  4\\\\\n",
       "\t 96\\\\\n",
       "\\end{tabular}\n"
      ],
      "text/markdown": [
       "\n",
       "A tibble: 17409 × 1\n",
       "\n",
       "| YR_2020 &lt;dbl&gt; |\n",
       "|---|\n",
       "| 4 |\n",
       "| 2 |\n",
       "| 4 |\n",
       "| ⋮ |\n",
       "|  5 |\n",
       "|  4 |\n",
       "| 96 |\n",
       "\n"
      ],
      "text/plain": [
       "      YR_2020\n",
       "1     4      \n",
       "2     2      \n",
       "3     4      \n",
       "⋮     ⋮      \n",
       "17407  5     \n",
       "17408  4     \n",
       "17409 96     "
      ]
     },
     "metadata": {},
     "output_type": "display_data"
    },
    {
     "data": {
      "text/html": [
       "<table class=\"dataframe\">\n",
       "<caption>A tibble: 13810 × 1</caption>\n",
       "<thead>\n",
       "\t<tr><th scope=col>YR_2018</th></tr>\n",
       "\t<tr><th scope=col>&lt;dbl&gt;</th></tr>\n",
       "</thead>\n",
       "<tbody>\n",
       "\t<tr><td>4</td></tr>\n",
       "\t<tr><td>6</td></tr>\n",
       "\t<tr><td>2</td></tr>\n",
       "\t<tr><td>⋮</td></tr>\n",
       "\t<tr><td>1</td></tr>\n",
       "\t<tr><td>3</td></tr>\n",
       "\t<tr><td>2</td></tr>\n",
       "</tbody>\n",
       "</table>\n"
      ],
      "text/latex": [
       "A tibble: 13810 × 1\n",
       "\\begin{tabular}{l}\n",
       " YR\\_2018\\\\\n",
       " <dbl>\\\\\n",
       "\\hline\n",
       "\t 4\\\\\n",
       "\t 6\\\\\n",
       "\t 2\\\\\n",
       "\t ⋮\\\\\n",
       "\t 1\\\\\n",
       "\t 3\\\\\n",
       "\t 2\\\\\n",
       "\\end{tabular}\n"
      ],
      "text/markdown": [
       "\n",
       "A tibble: 13810 × 1\n",
       "\n",
       "| YR_2018 &lt;dbl&gt; |\n",
       "|---|\n",
       "| 4 |\n",
       "| 6 |\n",
       "| 2 |\n",
       "| ⋮ |\n",
       "| 1 |\n",
       "| 3 |\n",
       "| 2 |\n",
       "\n"
      ],
      "text/plain": [
       "      YR_2018\n",
       "1     4      \n",
       "2     6      \n",
       "3     2      \n",
       "⋮     ⋮      \n",
       "13808 1      \n",
       "13809 3      \n",
       "13810 2      "
      ]
     },
     "metadata": {},
     "output_type": "display_data"
    }
   ],
   "source": [
    "cius_all <- read_excel(\"data/CIUS_2020_2018_ALL.xlsx\") \n",
    "cius_2020_raw <- cius_all |> select(\"YR_2020\" = UI_060A)\n",
    "cius_2018_raw <- cius_all |> select(\"YR_2018\" = UI_210A) |> filter(YR_2018 != \"NA\")\n",
    "cius_2020_raw\n",
    "cius_2018_raw"
   ]
  },
  {
   "cell_type": "markdown",
   "id": "2e127545-fb89-4043-8eb1-0012c8211689",
   "metadata": {},
   "source": [
    "Removing invalid responses"
   ]
  },
  {
   "cell_type": "code",
   "execution_count": 3,
   "id": "5d7e98fa-e7f0-433b-b32c-9ebdfdaaf0cc",
   "metadata": {
    "tags": []
   },
   "outputs": [
    {
     "data": {
      "text/html": [
       "<table class=\"dataframe\">\n",
       "<caption>A tibble: 14983 × 1</caption>\n",
       "<thead>\n",
       "\t<tr><th scope=col>YR_2020</th></tr>\n",
       "\t<tr><th scope=col>&lt;dbl&gt;</th></tr>\n",
       "</thead>\n",
       "<tbody>\n",
       "\t<tr><td>4</td></tr>\n",
       "\t<tr><td>2</td></tr>\n",
       "\t<tr><td>4</td></tr>\n",
       "\t<tr><td>⋮</td></tr>\n",
       "\t<tr><td>5</td></tr>\n",
       "\t<tr><td>5</td></tr>\n",
       "\t<tr><td>4</td></tr>\n",
       "</tbody>\n",
       "</table>\n"
      ],
      "text/latex": [
       "A tibble: 14983 × 1\n",
       "\\begin{tabular}{l}\n",
       " YR\\_2020\\\\\n",
       " <dbl>\\\\\n",
       "\\hline\n",
       "\t 4\\\\\n",
       "\t 2\\\\\n",
       "\t 4\\\\\n",
       "\t ⋮\\\\\n",
       "\t 5\\\\\n",
       "\t 5\\\\\n",
       "\t 4\\\\\n",
       "\\end{tabular}\n"
      ],
      "text/markdown": [
       "\n",
       "A tibble: 14983 × 1\n",
       "\n",
       "| YR_2020 &lt;dbl&gt; |\n",
       "|---|\n",
       "| 4 |\n",
       "| 2 |\n",
       "| 4 |\n",
       "| ⋮ |\n",
       "| 5 |\n",
       "| 5 |\n",
       "| 4 |\n",
       "\n"
      ],
      "text/plain": [
       "      YR_2020\n",
       "1     4      \n",
       "2     2      \n",
       "3     4      \n",
       "⋮     ⋮      \n",
       "14981 5      \n",
       "14982 5      \n",
       "14983 4      "
      ]
     },
     "metadata": {},
     "output_type": "display_data"
    },
    {
     "data": {
      "text/html": [
       "<table class=\"dataframe\">\n",
       "<caption>A tibble: 11951 × 1</caption>\n",
       "<thead>\n",
       "\t<tr><th scope=col>YR_2018</th></tr>\n",
       "\t<tr><th scope=col>&lt;dbl&gt;</th></tr>\n",
       "</thead>\n",
       "<tbody>\n",
       "\t<tr><td>4</td></tr>\n",
       "\t<tr><td>2</td></tr>\n",
       "\t<tr><td>1</td></tr>\n",
       "\t<tr><td>⋮</td></tr>\n",
       "\t<tr><td>1</td></tr>\n",
       "\t<tr><td>3</td></tr>\n",
       "\t<tr><td>2</td></tr>\n",
       "</tbody>\n",
       "</table>\n"
      ],
      "text/latex": [
       "A tibble: 11951 × 1\n",
       "\\begin{tabular}{l}\n",
       " YR\\_2018\\\\\n",
       " <dbl>\\\\\n",
       "\\hline\n",
       "\t 4\\\\\n",
       "\t 2\\\\\n",
       "\t 1\\\\\n",
       "\t ⋮\\\\\n",
       "\t 1\\\\\n",
       "\t 3\\\\\n",
       "\t 2\\\\\n",
       "\\end{tabular}\n"
      ],
      "text/markdown": [
       "\n",
       "A tibble: 11951 × 1\n",
       "\n",
       "| YR_2018 &lt;dbl&gt; |\n",
       "|---|\n",
       "| 4 |\n",
       "| 2 |\n",
       "| 1 |\n",
       "| ⋮ |\n",
       "| 1 |\n",
       "| 3 |\n",
       "| 2 |\n",
       "\n"
      ],
      "text/plain": [
       "      YR_2018\n",
       "1     4      \n",
       "2     2      \n",
       "3     1      \n",
       "⋮     ⋮      \n",
       "11949 1      \n",
       "11950 3      \n",
       "11951 2      "
      ]
     },
     "metadata": {},
     "output_type": "display_data"
    }
   ],
   "source": [
    "cius_2020_clean <- cius_2020_raw |> filter(YR_2020 <= 6)\n",
    "cius_2018_clean <- cius_2018_raw |> filter(YR_2018 <= 5)\n",
    "\n",
    "cius_2020_clean\n",
    "cius_2018_clean"
   ]
  },
  {
   "cell_type": "markdown",
   "id": "a1bf5989-054a-4f5c-88af-64886a5e3f48",
   "metadata": {},
   "source": [
    "The number of invalid responses removed in 2018:"
   ]
  },
  {
   "cell_type": "code",
   "execution_count": 4,
   "id": "c6d1cae7-3741-4f64-a6f8-e2ca530f3c4b",
   "metadata": {
    "tags": []
   },
   "outputs": [
    {
     "data": {
      "text/html": [
       "1859"
      ],
      "text/latex": [
       "1859"
      ],
      "text/markdown": [
       "1859"
      ],
      "text/plain": [
       "[1] 1859"
      ]
     },
     "metadata": {},
     "output_type": "display_data"
    }
   ],
   "source": [
    "removed_2018 <- nrow(cius_2018_raw) - nrow(cius_2018_clean)\n",
    "removed_2018"
   ]
  },
  {
   "cell_type": "markdown",
   "id": "da85f5af-5fef-49c5-9fec-eb6d87926d3e",
   "metadata": {},
   "source": [
    "The number of invalid responses removed in 2020:"
   ]
  },
  {
   "cell_type": "code",
   "execution_count": 5,
   "id": "c28e5189-fee8-43c4-ba82-63fd11aff9eb",
   "metadata": {
    "tags": []
   },
   "outputs": [
    {
     "data": {
      "text/html": [
       "2426"
      ],
      "text/latex": [
       "2426"
      ],
      "text/markdown": [
       "2426"
      ],
      "text/plain": [
       "[1] 2426"
      ]
     },
     "metadata": {},
     "output_type": "display_data"
    }
   ],
   "source": [
    "removed_2020 <- nrow(cius_2020_raw) - nrow(cius_2020_clean)\n",
    "removed_2020"
   ]
  },
  {
   "cell_type": "markdown",
   "id": "c5b783e4-79ad-440f-9a13-e23ec62c858b",
   "metadata": {},
   "source": [
    "Scaling the 2020 by decrementing any response 2 or greater by 1"
   ]
  },
  {
   "cell_type": "code",
   "execution_count": 6,
   "id": "c2e6780a-1686-429e-8d43-9cf20c48750d",
   "metadata": {},
   "outputs": [
    {
     "data": {
      "text/html": [
       "<table class=\"dataframe\">\n",
       "<caption>A tibble: 14983 × 1</caption>\n",
       "<thead>\n",
       "\t<tr><th scope=col>YR_2020</th></tr>\n",
       "\t<tr><th scope=col>&lt;dbl&gt;</th></tr>\n",
       "</thead>\n",
       "<tbody>\n",
       "\t<tr><td>3</td></tr>\n",
       "\t<tr><td>1</td></tr>\n",
       "\t<tr><td>3</td></tr>\n",
       "\t<tr><td>⋮</td></tr>\n",
       "\t<tr><td>4</td></tr>\n",
       "\t<tr><td>4</td></tr>\n",
       "\t<tr><td>3</td></tr>\n",
       "</tbody>\n",
       "</table>\n"
      ],
      "text/latex": [
       "A tibble: 14983 × 1\n",
       "\\begin{tabular}{l}\n",
       " YR\\_2020\\\\\n",
       " <dbl>\\\\\n",
       "\\hline\n",
       "\t 3\\\\\n",
       "\t 1\\\\\n",
       "\t 3\\\\\n",
       "\t ⋮\\\\\n",
       "\t 4\\\\\n",
       "\t 4\\\\\n",
       "\t 3\\\\\n",
       "\\end{tabular}\n"
      ],
      "text/markdown": [
       "\n",
       "A tibble: 14983 × 1\n",
       "\n",
       "| YR_2020 &lt;dbl&gt; |\n",
       "|---|\n",
       "| 3 |\n",
       "| 1 |\n",
       "| 3 |\n",
       "| ⋮ |\n",
       "| 4 |\n",
       "| 4 |\n",
       "| 3 |\n",
       "\n"
      ],
      "text/plain": [
       "      YR_2020\n",
       "1     3      \n",
       "2     1      \n",
       "3     3      \n",
       "⋮     ⋮      \n",
       "14981 4      \n",
       "14982 4      \n",
       "14983 3      "
      ]
     },
     "metadata": {},
     "output_type": "display_data"
    }
   ],
   "source": [
    "cius_2020_scaled <- cius_2020_clean |> mutate(YR_2020 = ifelse(YR_2020 == 1, YR_2020, YR_2020 - 1))\n",
    "\n",
    "cius_2020_scaled"
   ]
  },
  {
   "cell_type": "markdown",
   "id": "3c7784a6-84e6-4281-96b1-708930f12401",
   "metadata": {},
   "source": [
    "Calculating the averages for the data"
   ]
  },
  {
   "cell_type": "code",
   "execution_count": 7,
   "id": "12d2c554-1b83-4216-8ce2-d2b2124c7f44",
   "metadata": {
    "tags": []
   },
   "outputs": [
    {
     "data": {
      "text/html": [
       "<table class=\"dataframe\">\n",
       "<caption>A tibble: 1 × 1</caption>\n",
       "<thead>\n",
       "\t<tr><th scope=col>mean</th></tr>\n",
       "\t<tr><th scope=col>&lt;dbl&gt;</th></tr>\n",
       "</thead>\n",
       "<tbody>\n",
       "\t<tr><td>2.5298</td></tr>\n",
       "</tbody>\n",
       "</table>\n"
      ],
      "text/latex": [
       "A tibble: 1 × 1\n",
       "\\begin{tabular}{l}\n",
       " mean\\\\\n",
       " <dbl>\\\\\n",
       "\\hline\n",
       "\t 2.5298\\\\\n",
       "\\end{tabular}\n"
      ],
      "text/markdown": [
       "\n",
       "A tibble: 1 × 1\n",
       "\n",
       "| mean &lt;dbl&gt; |\n",
       "|---|\n",
       "| 2.5298 |\n",
       "\n"
      ],
      "text/plain": [
       "  mean  \n",
       "1 2.5298"
      ]
     },
     "metadata": {},
     "output_type": "display_data"
    },
    {
     "data": {
      "text/html": [
       "<table class=\"dataframe\">\n",
       "<caption>A tibble: 1 × 1</caption>\n",
       "<thead>\n",
       "\t<tr><th scope=col>mean</th></tr>\n",
       "\t<tr><th scope=col>&lt;dbl&gt;</th></tr>\n",
       "</thead>\n",
       "<tbody>\n",
       "\t<tr><td>2.341478</td></tr>\n",
       "</tbody>\n",
       "</table>\n"
      ],
      "text/latex": [
       "A tibble: 1 × 1\n",
       "\\begin{tabular}{l}\n",
       " mean\\\\\n",
       " <dbl>\\\\\n",
       "\\hline\n",
       "\t 2.341478\\\\\n",
       "\\end{tabular}\n"
      ],
      "text/markdown": [
       "\n",
       "A tibble: 1 × 1\n",
       "\n",
       "| mean &lt;dbl&gt; |\n",
       "|---|\n",
       "| 2.341478 |\n",
       "\n"
      ],
      "text/plain": [
       "  mean    \n",
       "1 2.341478"
      ]
     },
     "metadata": {},
     "output_type": "display_data"
    }
   ],
   "source": [
    "cius_2020_mean <- summarise(cius_2020_scaled, \"mean\" = mean(YR_2020))\n",
    "cius_2018_mean <- summarise(cius_2018_clean, \"mean\" = mean(YR_2018))\n",
    "cius_2020_mean\n",
    "cius_2018_mean"
   ]
  },
  {
   "cell_type": "markdown",
   "id": "c50a6ee4-d698-4eaf-aee0-61883eefba74",
   "metadata": {
    "tags": []
   },
   "source": [
    "Tidying data"
   ]
  },
  {
   "cell_type": "code",
   "execution_count": 8,
   "id": "bacd309e-8102-4e8e-9f53-80d28dde1c88",
   "metadata": {
    "tags": []
   },
   "outputs": [
    {
     "data": {
      "text/html": [
       "<table class=\"dataframe\">\n",
       "<caption>A tibble: 2 × 2</caption>\n",
       "<thead>\n",
       "\t<tr><th scope=col>mean</th><th scope=col>year</th></tr>\n",
       "\t<tr><th scope=col>&lt;dbl&gt;</th><th scope=col>&lt;chr&gt;</th></tr>\n",
       "</thead>\n",
       "<tbody>\n",
       "\t<tr><td>2.529800</td><td>2020</td></tr>\n",
       "\t<tr><td>2.341478</td><td>2018</td></tr>\n",
       "</tbody>\n",
       "</table>\n"
      ],
      "text/latex": [
       "A tibble: 2 × 2\n",
       "\\begin{tabular}{ll}\n",
       " mean & year\\\\\n",
       " <dbl> & <chr>\\\\\n",
       "\\hline\n",
       "\t 2.529800 & 2020\\\\\n",
       "\t 2.341478 & 2018\\\\\n",
       "\\end{tabular}\n"
      ],
      "text/markdown": [
       "\n",
       "A tibble: 2 × 2\n",
       "\n",
       "| mean &lt;dbl&gt; | year &lt;chr&gt; |\n",
       "|---|---|\n",
       "| 2.529800 | 2020 |\n",
       "| 2.341478 | 2018 |\n",
       "\n"
      ],
      "text/plain": [
       "  mean     year\n",
       "1 2.529800 2020\n",
       "2 2.341478 2018"
      ]
     },
     "metadata": {},
     "output_type": "display_data"
    }
   ],
   "source": [
    "results <- bind_rows(cius_2020_mean, cius_2018_mean) |> bind_cols(tibble(\"year\" = c(\"2020\", \"2018\")))\n",
    "results"
   ]
  },
  {
   "cell_type": "markdown",
   "id": "533c6c4e-8b8c-4b30-959a-6c7bcfb7e27c",
   "metadata": {
    "tags": []
   },
   "source": [
    "Visualizing data"
   ]
  },
  {
   "cell_type": "code",
   "execution_count": 15,
   "id": "3bf8bbb6-9b4c-41ea-9e8a-dceedd497912",
   "metadata": {
    "tags": []
   },
   "outputs": [
    {
     "name": "stderr",
     "output_type": "stream",
     "text": [
      "\u001b[1m\u001b[22mSaving 6.67 x 6.67 in image\n"
     ]
    },
    {
     "data": {
      "image/png": "[encoded data removed]",
      "text/plain": [
       "plot without title"
      ]
     },
     "metadata": {
      "image/png": {
       "height": 420,
       "width": 360
      }
     },
     "output_type": "display_data"
    }
   ],
   "source": [
    "options(repr.plot.width = 6)\n",
    "results_plot <- ggplot(results, aes(x = year, y = mean, fill = year)) + geom_bar(stat = \"identity\") +\n",
    "labs(x = \"Year\", y = \"Mean Internet Usage Index\", fill = \"Year\") +\n",
    "  theme(text = element_text(size = 16)) +\n",
    "ggtitle(\"Figure 1. Internet Usage in 2018 vs. 2020\")\n",
    "results_plot\n",
    "ggsave(\"images/results_plot.png\", results_plot)"
   ]
  },
  {
   "cell_type": "markdown",
   "id": "35241bd6-caf8-448b-8cd8-4c7453682ee5",
   "metadata": {},
   "source": [
    "Checking to see if there is a normal distribution:"
   ]
  },
  {
   "cell_type": "code",
   "execution_count": 10,
   "id": "5a04a699-ca45-4595-804f-9713c22c6978",
   "metadata": {
    "tags": []
   },
   "outputs": [
    {
     "name": "stderr",
     "output_type": "stream",
     "text": [
      "\u001b[1m\u001b[22mSaving 6.67 x 6.67 in image\n"
     ]
    },
    {
     "data": {
      "image/png": "[encoded data removed]",
      "text/plain": [
       "plot without title"
      ]
     },
     "metadata": {
      "image/png": {
       "height": 420,
       "width": 360
      }
     },
     "output_type": "display_data"
    }
   ],
   "source": [
    "normal_2020 <- ggplot(cius_2020_scaled, aes(x = YR_2020)) +\n",
    "  geom_histogram(binwidth = 1) +\n",
    "  labs(x = \"Index Score\") +\n",
    "  theme(text = element_text(size = 16)) +\n",
    "ggtitle(\"Distribution of Index Scores in 2020\")\n",
    "normal_2020\n",
    "ggsave(\"images/normal_2020.png\", normal_2020)"
   ]
  },
  {
   "cell_type": "code",
   "execution_count": 11,
   "id": "49aa753a-50ea-4135-95e2-a2f70adbf33b",
   "metadata": {
    "tags": []
   },
   "outputs": [
    {
     "name": "stderr",
     "output_type": "stream",
     "text": [
      "\u001b[1m\u001b[22mSaving 6.67 x 6.67 in image\n"
     ]
    },
    {
     "data": {
      "image/png": "[encoded data removed]",
      "text/plain": [
       "plot without title"
      ]
     },
     "metadata": {
      "image/png": {
       "height": 420,
       "width": 360
      }
     },
     "output_type": "display_data"
    }
   ],
   "source": [
    "normal_2018 <- ggplot(cius_2018_clean, aes(x = YR_2018)) +\n",
    "  geom_histogram(binwidth = 1) +\n",
    "  labs(x = \"Index Score\") +\n",
    "  theme(text = element_text(size = 16)) +\n",
    "ggtitle(\"Distribution of Index Scores in 2018\")\n",
    "normal_2018\n",
    "ggsave(\"images/normal_2018.png\", normal_2018)"
   ]
  },
  {
   "cell_type": "markdown",
   "id": "cade6599-0eed-4ca5-9523-efe97d3bd54b",
   "metadata": {},
   "source": [
    "Neither year have results that are normally distributed."
   ]
  },
  {
   "cell_type": "markdown",
   "id": "4c4b2372-1e33-45bb-ba46-f041c2b9ad42",
   "metadata": {
    "tags": []
   },
   "source": [
    "Writing to CSV"
   ]
  },
  {
   "cell_type": "code",
   "execution_count": 12,
   "id": "5678c69f-6f1f-43c3-9642-a6ed8733a110",
   "metadata": {
    "tags": []
   },
   "outputs": [],
   "source": [
    "write_csv(cius_2020_scaled, \"data/cius_2020_scaled.csv\")"
   ]
  },
  {
   "cell_type": "code",
   "execution_count": 13,
   "id": "95960b7f-0027-4982-85a6-233e9f0d2018",
   "metadata": {
    "tags": []
   },
   "outputs": [],
   "source": [
    "write_csv(cius_2018_clean, \"data/cius_2018_clean.csv\")"
   ]
  }
 ],
 "metadata": {
  "kernelspec": {
   "display_name": "R",
   "language": "R",
   "name": "ir"
  },
  "language_info": {
   "codemirror_mode": "r",
   "file_extension": ".r",
   "mimetype": "text/x-r-source",
   "name": "R",
   "pygments_lexer": "r",
   "version": "4.2.3"
  }
 },
 "nbformat": 4,
 "nbformat_minor": 5
}
