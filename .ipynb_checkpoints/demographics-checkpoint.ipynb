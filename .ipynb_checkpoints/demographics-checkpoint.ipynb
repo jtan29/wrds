{
 "cells": [
  {
   "cell_type": "markdown",
   "id": "4305f339-958f-4d59-812f-86c63a2c3a0f",
   "metadata": {},
   "source": [
    "Importing relevant libraries"
   ]
  },
  {
   "cell_type": "code",
   "execution_count": null,
   "id": "d6b24d59-7686-4926-a219-3c123de5cbea",
   "metadata": {
    "tags": []
   },
   "outputs": [],
   "source": [
    "library(tidyverse)\n",
    "library(readxl)\n",
    "library(repr)\n",
    "options(repr.matrix.max.rows = 10)"
   ]
  },
  {
   "cell_type": "markdown",
   "id": "2aad5eda-490b-4b0c-a731-a4adf374843f",
   "metadata": {},
   "source": [
    "Loading data"
   ]
  },
  {
   "cell_type": "code",
   "execution_count": null,
   "id": "ae8bbcdd-f664-4dac-aa16-e2df56aee30c",
   "metadata": {
    "tags": []
   },
   "outputs": [],
   "source": [
    "cius_2020_dem <- read_excel(\"data/CIUS_2020_DEM.xlsx\") \n",
    "cius_2018_dem <- read_excel(\"data/CIUS_2018_DEM.xlsx\")\n",
    "cius_2020_dem\n",
    "cius_2018_dem"
   ]
  },
  {
   "cell_type": "markdown",
   "id": "6f44aa00-bd5a-486c-8726-790f1dd4ebb7",
   "metadata": {},
   "source": [
    "Cleaning and filtering data"
   ]
  },
  {
   "cell_type": "code",
   "execution_count": null,
   "id": "79184b0c-4c12-4513-a542-7e596c473627",
   "metadata": {
    "tags": []
   },
   "outputs": [],
   "source": [
    "cius_2020_dem_clean <- cius_2020_dem |> filter(UI_060A <= 6) |> select(GENDER, AGE_GRP)\n",
    "cius_2018_dem_clean <- cius_2018_dem |> mutate(AGE_GRP = as.numeric(AGE_GRP)) |> filter(UI_210A <= 5) |> select(GENDER, AGE_GRP)\n",
    "cius_2020_dem_clean\n",
    "cius_2018_dem_clean"
   ]
  },
  {
   "cell_type": "markdown",
   "id": "fb70eef5-91c9-41f6-b528-2860b4b7c4dd",
   "metadata": {},
   "source": [
    "Determining number of respondents by gender in 2018"
   ]
  },
  {
   "cell_type": "code",
   "execution_count": null,
   "id": "b738c653-e69b-4e78-9ec8-ba5705e16539",
   "metadata": {
    "tags": []
   },
   "outputs": [],
   "source": [
    "gender_2018 <- cius_2018_dem_clean |> group_by(GENDER) |>\n",
    "    summarize(count = n()) |>\n",
    "bind_cols(\"GENDER_LABEL\" = c(\"male\", \"female\"))\n",
    "gender_2018\n"
   ]
  },
  {
   "cell_type": "markdown",
   "id": "5fb86427-87f5-4c7f-a338-1db1418c844d",
   "metadata": {},
   "source": [
    "Determining number of respondents by gender in 2020"
   ]
  },
  {
   "cell_type": "code",
   "execution_count": null,
   "id": "9e55fbb1-65a1-4624-b579-e2a3a5832851",
   "metadata": {
    "tags": []
   },
   "outputs": [],
   "source": [
    "gender_2020 <- cius_2020_dem_clean |> group_by(GENDER) |>\n",
    "    summarize(count = n()) |>\n",
    "bind_cols(\"GENDER_LABEL\" = c(\"male\", \"female\"))\n",
    "gender_2020"
   ]
  },
  {
   "cell_type": "markdown",
   "id": "00eeda0b-cf8c-41b5-8816-0d4ec9e77dff",
   "metadata": {},
   "source": [
    "Plotting gender demographics data"
   ]
  },
  {
   "cell_type": "code",
   "execution_count": null,
   "id": "fbcbdf06-ace3-4928-af7a-e5d6f5aee8be",
   "metadata": {
    "tags": []
   },
   "outputs": [],
   "source": [
    "gender_2018_plot <- ggplot(gender_2018, aes(x = GENDER_LABEL, y = count, fill = GENDER_LABEL)) + \n",
    "    geom_bar(stat = \"identity\") + \n",
    "   xlab(\"Gender\") +\n",
    "   ylab(\"Number of respondents\") +\n",
    "   labs(fill = \"Gender\") +\n",
    "  theme(text = element_text(size = 16)) +\n",
    "ggtitle(\"Gender distribution of respondents in 2018\")\n",
    "gender_2018_plot\n",
    "ggsave(\"images/gender_2018_plot.png\", gender_2018_plot)"
   ]
  },
  {
   "cell_type": "code",
   "execution_count": null,
   "id": "6d6cbb3f-2032-42dc-8c2e-d72683d870f0",
   "metadata": {
    "tags": []
   },
   "outputs": [],
   "source": [
    "gender_2020_plot <- ggplot(gender_2020, aes(x = GENDER_LABEL, y = count, fill = GENDER_LABEL)) +\n",
    "    geom_bar(stat = \"identity\") + \n",
    "   xlab(\"Gender\") +\n",
    "   ylab(\"Number of respondents\") +\n",
    "   labs(fill = \"Gender\") +\n",
    "  theme(text = element_text(size = 16)) +\n",
    "ggtitle(\"Gender distribution of respondents in 2020\")\n",
    "gender_2020_plot\n",
    "ggsave(\"images/gender_2020_plot.png\", gender_2020_plot)"
   ]
  },
  {
   "cell_type": "markdown",
   "id": "49aebc77-3f49-4b64-9eeb-7fb4b5aec16f",
   "metadata": {},
   "source": [
    "Determining number of respondents by age group in 2018"
   ]
  },
  {
   "cell_type": "code",
   "execution_count": null,
   "id": "0f3eb8ef-d51d-4ec0-97f1-b25290c55f9f",
   "metadata": {
    "tags": []
   },
   "outputs": [],
   "source": [
    "age_2018 <- cius_2018_dem_clean |> group_by(AGE_GRP) |>\n",
    "    summarize(count = n()) |>\n",
    "bind_cols(\"AGE_LABEL\" = c(\"15-24\", \"25-34\", \"35-44\", \"45-54\", \"55-64\", \"65+\"))\n",
    "age_2018"
   ]
  },
  {
   "cell_type": "markdown",
   "id": "2fa991ea-b507-4700-b81f-bdb1b31c9df1",
   "metadata": {},
   "source": [
    "Determining number of respondents by age group in 2020"
   ]
  },
  {
   "cell_type": "code",
   "execution_count": null,
   "id": "39edeb3a-07b4-4e9b-b8f1-9888ba49875e",
   "metadata": {
    "tags": []
   },
   "outputs": [],
   "source": [
    "age_2020 <- cius_2020_dem_clean |> group_by(AGE_GRP) |>\n",
    "    summarize(count = n()) |>\n",
    "bind_cols(\"AGE_LABEL\" = c(\"15-24\", \"25-34\", \"35-44\", \"45-54\", \"55-64\", \"65+\"))\n",
    "age_2020"
   ]
  },
  {
   "cell_type": "markdown",
   "id": "fca91be9-5546-4cda-ba6f-df95bae8de27",
   "metadata": {},
   "source": [
    "Plotting age group demographics data"
   ]
  },
  {
   "cell_type": "code",
   "execution_count": null,
   "id": "eba8b24a-769a-433e-b11d-9f2a6c263264",
   "metadata": {
    "tags": []
   },
   "outputs": [],
   "source": [
    "age_2018_plot <- ggplot(age_2018, aes(x = AGE_LABEL, y = count, fill = AGE_LABEL)) + \n",
    "    geom_bar(stat = \"identity\") + \n",
    "   xlab(\"Age group\") +\n",
    "   ylab(\"Number of respondents\") +\n",
    "   labs(fill = \"Age group\") +\n",
    "  theme(text = element_text(size = 16)) +\n",
    "ggtitle(\"Age distribution of respondents in 2018\")\n",
    "age_2018_plot\n",
    "ggsave(\"images/age_2018_plot.png\", age_2018_plot)"
   ]
  },
  {
   "cell_type": "code",
   "execution_count": null,
   "id": "e5dbc9de-701b-4730-9adc-87fa04f5837b",
   "metadata": {
    "tags": []
   },
   "outputs": [],
   "source": [
    "age_2020_plot <- ggplot(age_2020, aes(x = AGE_LABEL, y = count, fill = AGE_LABEL)) + \n",
    "    geom_bar(stat = \"identity\") + \n",
    "   xlab(\"Age group\") +\n",
    "   ylab(\"Number of respondents\") +\n",
    "   labs(fill = \"Age group\") +\n",
    "  theme(text = element_text(size = 16)) +\n",
    "ggtitle(\"Age distribution of respondents in 2020\")\n",
    "age_2020_plot\n",
    "ggsave(\"images/age_2020_plot.png\", age_2020_plot)"
   ]
  }
 ],
 "metadata": {
  "kernelspec": {
   "display_name": "R",
   "language": "R",
   "name": "ir"
  },
  "language_info": {
   "codemirror_mode": "r",
   "file_extension": ".r",
   "mimetype": "text/x-r-source",
   "name": "R",
   "pygments_lexer": "r",
   "version": "4.2.3"
  }
 },
 "nbformat": 4,
 "nbformat_minor": 5
}
